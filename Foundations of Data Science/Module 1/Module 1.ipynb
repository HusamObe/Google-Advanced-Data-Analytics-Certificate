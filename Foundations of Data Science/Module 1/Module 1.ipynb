{
 "cells": [
  {
   "cell_type": "markdown",
   "id": "21cff28c-a697-4ace-bddf-3c4294ddba9f",
   "metadata": {},
   "source": [
    "## Data Professional\n",
    "### A term used to describe any individual who works with data and/or has data skills .                                                                                                                                                                 "
   ]
  },
  {
   "cell_type": "markdown",
   "id": "1007cc10-77c3-412c-97c8-2dfc9b2c90cb",
   "metadata": {},
   "source": [
    "## Machine learning\n",
    "### An alternative approach to automation expressing the way you want a task done by using data instead of explicit instructions ."
   ]
  },
  {
   "cell_type": "markdown",
   "id": "cbbc6509-a140-4b53-8592-51ebabfe8fce",
   "metadata": {},
   "source": [
    "## Data science vs. Data analytics\n",
    "* **Data science** is an entire field dedicated to making data more useful. A data scientist is a professional that uses raw data to develop new ways to model data and understand the unknown. Often, their job responsibilities incorporate various components of computer science, predictive analytics, statistics, and machine learning. The collections of information that data scientists work with can be quite large, requiring expertise to organize and navigate.\n",
    "  \n",
    "* **Data analytics** is a subfield of the larger data science discipline. The aim of data analytics is to create methods to capture, process, and organize data to uncover actionable insights for current problems. Analysts focus on processing the information stored in existing datasets and establishing the best way to present this data. Data analysts rely on statistics and data modeling to solve problems and offer recommendations that can lead to immediate improvements. \n"
   ]
  },
  {
   "cell_type": "markdown",
   "id": "03626606-76fc-4f57-89a8-d8e2f0fa32cf",
   "metadata": {},
   "source": [
    "## The connections between data science and data analytics\n",
    "\n",
    "- Data science and data analytics share a fundamental goal: discover insights that can be used to lead an organization to improve and grow. They are closely connected with information gathered through interactions within the measurable world. As data projects become more complicated, organizations are discovering the advantages of assembling data teams, bringing data analysts and data scientists together. Within these highly-collaborative working environments, data scientists and data analysts work on common tasks using similar software packages, tools, and programming languages. Additionally, the responsibilities of data scientists and data analysts are impacted by a company’s resources, budgetary constraints, and other factors which vary depending on the organization and industry. The commonalities between data science and data analytics within the workplace explain why practitioners and industry professionals often use the two titles interchangeably. This has also extended to job postings. "
   ]
  },
  {
   "cell_type": "markdown",
   "id": "07bc7bcb-f045-4575-82d3-9495bdd3c512",
   "metadata": {},
   "source": [
    "## Data science and data analytics are distinct but connected fields that have developed over time in the evolving data career space. Organizations often use these terms interchangeably when hiring, so being able to recognize the similarities and differences between the two professions will help you identify opportunities that are aligned with your particular skill set. That’s why, throughout this course, you will learn more about the data career space as a whole and how data analytics professionals work within that space. "
   ]
  },
  {
   "cell_type": "markdown",
   "id": "9a8ba2da-8cd0-4499-ba16-027f9b1cb5eb",
   "metadata": {},
   "source": [
    "## Data analytics professionals use programming languages to work efficiently within large datasets."
   ]
  },
  {
   "cell_type": "markdown",
   "id": "a50673b4-0fec-42fd-bfb8-ca8726e31554",
   "metadata": {},
   "source": [
    "# Glossary terms from module 1\n",
    "**Data professional**: Any individual who works with data and/or has data skills.\n",
    "\n",
    "**Data science**: The discipline of making data useful.\n",
    "\n",
    "**Data stewardship**: The practices of an organization that ensure that data is accessible, usable, and safe.\n",
    "\n",
    "**Edge computing**: A way of distributing computational tasks over a bunch of nearby processors (i.e., computers) that is good for speed and resiliency and does not depend on a single source of computational power.\n",
    "\n",
    "**Jupyter Notebook**: An open-source web application used to create and share documents that contain live code, equations, visualizations, and narrative text.\n",
    "\n",
    "**Machine learning**: The use and development of algorithms and statistical models to teach computer systems to analyze patterns in data.\n",
    "\n",
    "**Metrics**: Methods and criteria used to evaluate data.\n",
    "\n",
    "**Python**: A general-purpose programming language.\n",
    "\n",
    "\n"
   ]
  },
  {
   "cell_type": "code",
   "execution_count": null,
   "id": "bd58d906-2518-479f-9a27-063b0d87db48",
   "metadata": {},
   "outputs": [],
   "source": []
  }
 ],
 "metadata": {
  "kernelspec": {
   "display_name": "Python 3 (ipykernel)",
   "language": "python",
   "name": "python3"
  },
  "language_info": {
   "codemirror_mode": {
    "name": "ipython",
    "version": 3
   },
   "file_extension": ".py",
   "mimetype": "text/x-python",
   "name": "python",
   "nbconvert_exporter": "python",
   "pygments_lexer": "ipython3",
   "version": "3.12.5"
  }
 },
 "nbformat": 4,
 "nbformat_minor": 5
}
