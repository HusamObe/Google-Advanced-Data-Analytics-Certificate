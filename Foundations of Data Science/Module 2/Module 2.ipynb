{
 "cells": [
  {
   "cell_type": "markdown",
   "id": "51f9c12c-390b-4fa4-8189-a4972ad6ca44",
   "metadata": {},
   "source": [
    "### A **customer engineer** at Google is the bridge between the technical and business components or aspects of corporate America. We help customers leverage our technology to meet their business needs."
   ]
  },
  {
   "cell_type": "markdown",
   "id": "6242c0f8-6be6-44ec-91d7-7f29a4b4cad7",
   "metadata": {},
   "source": [
    "### Data professionals are so valuable to their companies. They determine which data streams are most important to specific business projects, challenges, and initiatives. They identified key goals for the future. They give their organizations the ability to take meaningful action by re-imagining processes and improving operations."
   ]
  },
  {
   "cell_type": "markdown",
   "id": "24781857-d8c4-468c-a4a7-af532ffc99d7",
   "metadata": {},
   "source": [
    "### Data careers can be loosely categorized into two complimentary types of work, technical and strategic.\n"
   ]
  },
  {
   "cell_type": "markdown",
   "id": "682a7db6-f347-4fca-aaa4-f2751ebc9ea5",
   "metadata": {},
   "source": [
    "### Folks whose work requires a heavy emphasis on technical skills\n",
    "1-Machine learning engineers and Statisticians. Through their expertise in mathematics, statistics, and computing, they build models and make predictions. Using tools such as R and Python, they help their teams extract value from business data sets.\n",
    "\n",
    "2-Data analyst, whose work involves exploring vast and complex data sets to identify directions worth pursuing in the first place."
   ]
  },
  {
   "cell_type": "markdown",
   "id": "1bf49c6c-54c1-4998-927e-a18324a8a636",
   "metadata": {},
   "source": [
    "### Data professionals on the more strategic side. \n",
    "- These people include business intelligence professionals and technical project managers, to name a couple. Strategic data professionals use their skills to interpret information that affects an organization's operations, finance, research and development, and so much more. Their work aligns closely to the overall business strategy, involves seeking solutions to problems through data analytics. In short, strategic data professionals maximize information to guide how a business works."
   ]
  },
  {
   "cell_type": "markdown",
   "id": "707c55e9-1bf3-4929-a76a-b0c2b100903e",
   "metadata": {},
   "source": [
    "### Finance was an early adopter of the power of data science. With the way information drives this industry, it's easy to understand why. Data professionals help financial institutions assess investment risks, monitor market trends, detect anomalies to reduce fraud, and create a more stable financial system overall. "
   ]
  },
  {
   "cell_type": "markdown",
   "id": "a9c73381-fe1f-491f-9f2f-e2479c7e28ec",
   "metadata": {},
   "source": [
    "### Data analytics is helping health care organizations process large amounts of clinical data, which supports the early detection of a health condition and leads to more precise diagnosis."
   ]
  },
  {
   "cell_type": "markdown",
   "id": "afb9443e-2080-4aa3-91a7-8211c201b487",
   "metadata": {},
   "source": [
    "### Manufacturing. Data professionals predict when to perform preventative maintenance to avoid production line breakdowns, use data to maximize quality assurance and defect tracking, and artificial intelligence models help respond to logistical issues and reduce delivery truck miles on the road, advancing key sustainability goals. In a time when supply chains, every corner of the world, data enables clear, a near real time communication with suppliers, retailers, and other network partners."
   ]
  },
  {
   "cell_type": "markdown",
   "id": "73d73ca6-5f08-403e-b163-cebcd552b4c6",
   "metadata": {},
   "source": [
    "### Agriculture. With data insights, farmers develop new ways to approach crop production, livestock care, forestry, and agriculture. The inclusion of autonomous machinery, tractors, and irrigation systems is improving harvesting technologies as well."
   ]
  },
  {
   "cell_type": "markdown",
   "id": "56c469bf-3823-4ee7-8c37-9aab693752bc",
   "metadata": {},
   "source": [
    "-------------------------------------------------------"
   ]
  },
  {
   "cell_type": "markdown",
   "id": "fdf5c19c-5e0c-4856-a454-cb36343802bf",
   "metadata": {},
   "source": [
    "## Data scientist and data analyst\n",
    "- Data scientist and data analyst are roles that work directly with data. These professionals gather, clean, analyze, and share insights from data with stakeholders. An increasing number of industries turn to data analysis to create insights that inform various tasks like guide decision-making, identify user preferences, or determine how to use resources more effectively. With more industries looking for data professionals, there is a great chance that you will find one that matches your interests."
   ]
  },
  {
   "cell_type": "markdown",
   "id": "bef2396e-13c1-40c3-b31d-525226da9673",
   "metadata": {},
   "source": [
    "### Key attributes\n",
    "- **What they do**: Uncover trends, patterns, and insights from data\n",
    "\n",
    "- **How they do it**: Employ advanced modeling and statistical analytics techniques\n",
    "\n",
    "- Entry-level data scientist or analyst positions may not require considerable data analysis experience and be less restrictive about requiring those hired to hold a traditional degree."
   ]
  },
  {
   "cell_type": "markdown",
   "id": "7954f3d3-d0f6-4ead-a62b-a146fa3b340c",
   "metadata": {},
   "source": [
    "## Data management and infrastructure \n",
    "- Data professionals that work in data management and infrastructural roles are primarily responsible for the systems that distribute data and maintain its integrity. They work alongside data analytics professionals and help support their work. Their main responsibility is to ensure the functionality of data systems and the compliance with local, state, and federal regulations involving data security and ethics. "
   ]
  },
  {
   "cell_type": "markdown",
   "id": "211c1d84-758d-46ec-9f3f-bd807d468b86",
   "metadata": {},
   "source": [
    "### Key attributes\n",
    "- **What they do:** Manage data sources and the overall data infrastructure\n",
    "\n",
    " - **How they do it:** Work with the tools and databases used to manage data within a business"
   ]
  },
  {
   "cell_type": "markdown",
   "id": "0da1359b-ae0f-43ae-aa3f-956737ee4d89",
   "metadata": {},
   "source": [
    "## Business intelligence\n",
    "- Data analytics and business intelligence share a lot of commonalities. Both fields have professionals that use data to create insights that inform decision-making. A major difference is that business intelligence is more focused on creating processes and information channels that transform relevant data. Business intelligence professionals create tables, reports, and dashboards that empower stakeholders, giving them access to the data they need to inform the entire decision-making process on a continual basis. These roles often serve as a complement to core data analytics/data science professionals."
   ]
  },
  {
   "cell_type": "markdown",
   "id": "a20d9674-957a-4e8d-afb1-b52075199145",
   "metadata": {},
   "source": [
    "### Key attributes\n",
    "- **What they do:** Perform predictive analysis that enables organizations to determine likely future trends\n",
    "\n",
    "- **How they do it:** Create tables, reports and dashboards that empower their organization"
   ]
  },
  {
   "cell_type": "markdown",
   "id": "4df84913-5c14-48cf-9f9f-639f12c68f93",
   "metadata": {},
   "source": [
    "--------------------------------"
   ]
  },
  {
   "cell_type": "markdown",
   "id": "a92be56d-1d88-4338-a1ef-6a28b7a25bce",
   "metadata": {},
   "source": [
    "###  Data analytics is an emerging field with a wide range of exciting opportunities. And, even more exciting is the fact that big data is getting bigger. The need for people to understand, prioritize, manage, and analyze that information is not slowing down in any industry. Businesses will continue to rely on data-driven decision-making, fueled by both simple trend analyses and more complex techniques like predictive modeling and forecasting. "
   ]
  },
  {
   "cell_type": "markdown",
   "id": "1c9187c2-462c-4212-9647-28c18e9bd38a",
   "metadata": {},
   "source": [
    "### Data professionals also combine a knowledge about how to do practical tasks with an awareness of what makes communication and collaboration successful."
   ]
  },
  {
   "cell_type": "markdown",
   "id": "73c2b666-ed1b-40d1-8eb9-2322284801ae",
   "metadata": {},
   "source": [
    "### Working in data analytics requires a mix of business sense and knowledge in gathering, manipulating, and analyzing data."
   ]
  },
  {
   "cell_type": "markdown",
   "id": "c7928ae0-64bb-495e-8526-72b106bed44d",
   "metadata": {},
   "source": [
    "## Ideal qualities for data analytics professionals\n",
    "\n",
    "1- Being coachable\n",
    "\n",
    "2- A passion for data analysis\n",
    "\n",
    "3- Lifelong learning\n",
    "\n",
    "4- Strong interpersonal skills\n",
    "\n",
    "5- Communication\n",
    "\n",
    "6- Problem solver"
   ]
  },
  {
   "cell_type": "markdown",
   "id": "f4fa1329-9825-45ef-a039-e7d185677d61",
   "metadata": {},
   "source": [
    "------------------------------------------------"
   ]
  },
  {
   "cell_type": "markdown",
   "id": "f9476e72-11d9-4137-8898-dcfb16d6823b",
   "metadata": {},
   "source": [
    "### Privacy matters\n",
    "- Data privacy means preserving a data subject’s information and activity any time a data transaction occurs. This is also called information privacy or data protection. Data privacy is concerned with the access, use, and collection of personal data."
   ]
  },
  {
   "cell_type": "markdown",
   "id": "da29e534-e433-48a7-892c-1b42f5071c0b",
   "metadata": {},
   "source": [
    "- Protection from unauthorized access to their private data\n",
    "\n",
    "- Freedom from inappropriate use of their data\n",
    "\n",
    "- The right to inspect, update, or correct their data\n",
    "\n",
    "- Ability to give consent to data collection\n",
    "\n",
    "- Legal right to access the data"
   ]
  },
  {
   "cell_type": "markdown",
   "id": "7a2d7993-b8c1-45e2-9526-e4430fe96455",
   "metadata": {},
   "source": [
    "### Data anonymization is the process of protecting people's private or sensitive data by eliminating PII. Typically, data anonymization involves blanking, hashing, or masking personal information, often by using fixed-length codes to represent data columns, or hiding data with altered values."
   ]
  },
  {
   "cell_type": "markdown",
   "id": "c2c75875-4d7e-4ba8-b4a4-a44bdfb358b3",
   "metadata": {},
   "source": [
    "### all data professionals are responsible for ensuring the quality, integrity, accessibility, and security of data. Data stewardship is the practice of ensuring that data is accessible, usable, and safe. Making data stewardship a normal part of your work habits will benefit everyone who relies on your analysis, both inside and outside of your organization."
   ]
  },
  {
   "cell_type": "markdown",
   "id": "da286e04-4fa8-43ea-af0a-f144a12d17c5",
   "metadata": {},
   "source": [
    "### Data stewardship is the responsibility of every data professional. This responsibility goes beyond interactions with the data. By conducting your work in ways that are socially beneficial and inclusive"
   ]
  },
  {
   "cell_type": "markdown",
   "id": "fe8ac38f-db35-4ecf-99ce-eff42ee8b06f",
   "metadata": {},
   "source": [
    "----------------------"
   ]
  },
  {
   "cell_type": "markdown",
   "id": "1d79c684-58a6-408d-996b-bc906519a984",
   "metadata": {},
   "source": [
    "### RACI is an acronym that comes from four classifications of involvement: Responsible, Accountable, Consulted, and Informed.  he RACI matrix is one of many ways that companies organize roles and responsibilities. "
   ]
  },
  {
   "cell_type": "markdown",
   "id": "0cb4841d-29e4-427b-95b4-20afb937b9fc",
   "metadata": {},
   "source": [
    "### When companies employ the RACI matrix, stakeholders and cross-functional team members have a clearer understanding of involvement throughout the entire project. It is a model that helps to define roles and responsibilities for individuals or teams to ensure work gets done efficiently by listing who is \"responsible,\" \"accountable,\" \"consulted,\" and \"informed\" for project tasks."
   ]
  },
  {
   "cell_type": "markdown",
   "id": "d0146a8a-aded-4ac9-855a-dd927941257c",
   "metadata": {},
   "source": [
    "### The matrix identifies and assigns project tasks to one of the following levels of engagement:\n",
    "\n",
    "- **Responsible:** The cross-functional team members in this role are directly responsible for performing the work necessary or make decisions that are directly related to completing a task within a project. There can be several roles or groups responsible for the task, meaning that the responsibilities are held jointly by more than one classification.\n",
    "\n",
    "- **Accountable:** Those assigned the accountable role within a task are given the job of approving the work performed by those who are “responsible.” As a general rule there is usually a single person in this role, often a manager or a project lead.\n",
    "\n",
    "- **Consulted:** This role applies to those assigned to offer input on a task. There should be a clear and open line of 2-way communication between those assigned to “responsible” and “consulted.” There can be several people in this role. In many situations, they are referred to as subject matter experts, or SMEs for short.\n",
    "\n",
    "- **Informed:** Those in this role need to be kept aware of progress and concerns of those working on a project. These responsibilities tend to be assigned to higher levels of senior leadership. They need to understand the insights from projects rather than the details of how specific tasks are performed. "
   ]
  },
  {
   "cell_type": "markdown",
   "id": "7feb00c2-0ba0-4b90-917f-fc6145818cfe",
   "metadata": {},
   "source": [
    "------------------------------------------------------"
   ]
  },
  {
   "cell_type": "markdown",
   "id": "624fbad9-0d56-4b44-8def-abd5ad11beb4",
   "metadata": {},
   "source": [
    "## Glossary terms from Course 1, Module 2"
   ]
  },
  {
   "cell_type": "markdown",
   "id": "cdcedabe-1d3f-42a7-a69e-fc542fec87ee",
   "metadata": {},
   "source": [
    "**Aggregate information:** Data from a significant number of users that has eliminated personal information\n",
    "\n",
    "**Artificial intelligence (AI):** Refers to computer systems able to perform tasks that normally require human intelligence\n",
    "\n",
    "**Data anonymization:** The process of protecting people's private or sensitive data by eliminating PII\n",
    "\n",
    "**Data stewardship:** The practices of an organization that ensure that data is accessible, usable, and safe\n",
    "\n",
    "**Edge computing:** A way of distributing computational tasks over a bunch of nearby processors (i.e., computers) that is good for speed and resiliency and does not depend on a single source of computational power\n",
    "\n",
    "**Hackathon:** An event where programmers and data professionals come together and work on a project\n",
    "\n",
    "**Nonprofit:** A group organized for purposes other than generating profit; often aims to further a social cause or provide a benefit to the public\n",
    "\n",
    "**Open data:** Data that is available to the public and free to use, with guidance on how to navigate the datasets and acknowledge the source\n",
    "\n",
    "**Personally identifiable information (PII):** Information that permits the identity of an individual to be inferred by either direct or indirect means\n",
    "\n",
    "**Sample:** A segment of a population, often used to infer parameters of the whole population"
   ]
  },
  {
   "cell_type": "code",
   "execution_count": null,
   "id": "c40150a1-db62-4e15-814f-0302c747e8c5",
   "metadata": {},
   "outputs": [],
   "source": []
  }
 ],
 "metadata": {
  "kernelspec": {
   "display_name": "Python 3 (ipykernel)",
   "language": "python",
   "name": "python3"
  },
  "language_info": {
   "codemirror_mode": {
    "name": "ipython",
    "version": 3
   },
   "file_extension": ".py",
   "mimetype": "text/x-python",
   "name": "python",
   "nbconvert_exporter": "python",
   "pygments_lexer": "ipython3",
   "version": "3.12.5"
  }
 },
 "nbformat": 4,
 "nbformat_minor": 5
}
