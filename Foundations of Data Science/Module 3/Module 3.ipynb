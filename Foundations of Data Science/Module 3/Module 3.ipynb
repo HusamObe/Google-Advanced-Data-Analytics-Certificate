{
 "cells": [
  {
   "cell_type": "markdown",
   "id": "ac6babff-8ecb-40b0-9654-2a037cc9d2f1",
   "metadata": {},
   "source": [
    "## Tools today"
   ]
  },
  {
   "cell_type": "markdown",
   "id": "2c12f7e7-31d7-46a6-b91e-221ef93a0b05",
   "metadata": {},
   "source": [
    " - Spreadsheets (ex: Google Sheets,Microsoft Excel)\n",
    " - Databases (ex: Microsoft SQL Server,Google Cloud)\n",
    " - Programming languages (ex: SQL, Python, Java)\n",
    " - Data visualization (ex: Google Charts , Matplotlib. Tableau)\n",
    " - Dashboards (ex: Tableau, Microsoft PowerBI)"
   ]
  },
  {
   "cell_type": "markdown",
   "id": "e2666543-a673-49e6-bbbb-e544b739fdee",
   "metadata": {},
   "source": [
    "### As a data professional, you will continue learning new skills and applying your current skills in new ways throughout your career. Recognizing how skills can be transferable allows you to adapt to different organizations’ needs and evolving technologies. "
   ]
  },
  {
   "cell_type": "markdown",
   "id": "bc4ec53c-ed3f-42f4-85f2-f5f644820927",
   "metadata": {},
   "source": [
    "-----------------------------------------------------------------"
   ]
  },
  {
   "cell_type": "markdown",
   "id": "51bead84-7abe-4aff-814c-5a9596851781",
   "metadata": {},
   "source": [
    "## Terms and definitions"
   ]
  },
  {
   "cell_type": "markdown",
   "id": "c540c87c-1c30-48b1-b786-ad45a38b38b9",
   "metadata": {},
   "source": [
    "- **Active listening:** Refers to allowing team members, leadership, and other collaborative stakeholders to share their own points of view before offering responses.\n",
    "- **Analytics Team Manager:** A data professional who supervises analytical strategy for an organization, often managing multiple groups.\n",
    "- **Business Intelligence Analyst:** (Refer to Business Intelligence Engineer).\n",
    "\n",
    "- **Business Intelligence Engineer:** A data professional who uses their knowledge of business trends and databases to organize information and make it accessible; also referred to as a Business Intelligence Analyst.\n",
    "\n",
    "- **Chief Data Officer:** An executive-level data professional who is responsible for the consistency, accuracy, relevancy, interpretability, and reliability of the data a team provides.\n",
    "\n",
    "- **Data cleaning:** The process of formatting data and removing unwanted material.\n",
    "\n",
    "- **Data Engineer:** A data professional who makes data accessible, ensures data ecosystems offer reliable results, and manages infrastructure for data across enterprises.\n",
    "\n",
    "- **Data Scientist:** A data professional who works closely with analytics to provide meaningful insights that help improve current business operations.\n",
    "\n",
    "- **Interpersonal skills:** Traits that focus on communicating and building relationships.\n",
    "\n",
    "- **RACI chart:** A visual that helps to define roles and responsibilities for individuals or teams to ensure work gets done efficiently; lists who is responsible, accountable, consulted, and informed for project tasks."
   ]
  },
  {
   "cell_type": "code",
   "execution_count": null,
   "id": "e10a8734-b1df-47fa-abd8-ccc4c9d90715",
   "metadata": {},
   "outputs": [],
   "source": []
  }
 ],
 "metadata": {
  "kernelspec": {
   "display_name": "Python 3 (ipykernel)",
   "language": "python",
   "name": "python3"
  },
  "language_info": {
   "codemirror_mode": {
    "name": "ipython",
    "version": 3
   },
   "file_extension": ".py",
   "mimetype": "text/x-python",
   "name": "python",
   "nbconvert_exporter": "python",
   "pygments_lexer": "ipython3",
   "version": "3.12.5"
  }
 },
 "nbformat": 4,
 "nbformat_minor": 5
}
