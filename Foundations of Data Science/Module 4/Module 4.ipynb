{
 "cells": [
  {
   "cell_type": "markdown",
   "id": "f199864f-d9fc-45e8-94bf-0ee1e189f611",
   "metadata": {},
   "source": [
    "### **PACE** is an acronym that stands for plan, analyze, construct, and execute. Each element of the PACE framework represents an actionable stage in a project."
   ]
  },
  {
   "cell_type": "markdown",
   "id": "390aa29c-d05d-4a5a-b8dd-296b72ecd4fb",
   "metadata": {},
   "source": [
    "### Why do we use a workflow structure?\n",
    "- As a general rule, data professionals rely on workflow structures to guide them through the duration of data projects. Within a large-scale project, there can be a number of tasks that require a certain order of operations. Identifying complexities and finding consistent ways to work together can make projects more efficient and enable more productive communication. Identifying these and other types of potential blockers early can help you plan and prepare resources in advance before they can negatively affect a project. "
   ]
  },
  {
   "cell_type": "markdown",
   "id": "0f79cf36-1b48-42ab-8b3d-d43fdbe15eee",
   "metadata": {},
   "source": [
    "### PACE model\n",
    "1- **Plan** :  Is where you conceptualize the scope of the project and develop the steps that will guide you through the process of completing a project.\n",
    "\n",
    "2-**Analyze** :  Is where you will collect, prepare, and analyze all of the data for your project.\n",
    "\n",
    "3- **Construct** : Build models that will allow you access to hidden relationships locked within data.\n",
    "\n",
    "4- **Execute** : Present the finding of your analysis, receive feedback, and make revisions as necessary."
   ]
  },
  {
   "cell_type": "markdown",
   "id": "3d56d740-8cb8-44ad-90e6-4548ae9aaddd",
   "metadata": {},
   "source": [
    "### Data professionals need structured workflows to help them manage the large number of tasks within data projects. The PACE professional workflow was designed specifically for this program to assist you in developing your professional structures and practices. PACE functions like a completed circuit, with communication flowing between each stage. The design of PACE promotes flexibility, allowing for free movement between stages as needed."
   ]
  },
  {
   "cell_type": "markdown",
   "id": "183e2cb9-0710-4455-acf7-55d8179ecfaf",
   "metadata": {},
   "source": [
    "### Data professionals need to be able to communicate effectively with stakeholders while working through different stages of a project."
   ]
  },
  {
   "cell_type": "markdown",
   "id": "0fbdaf3a-cd4b-4b3f-9add-c9b564227b0e",
   "metadata": {},
   "source": [
    "## Elements of successful communication\n",
    "- Understanding why : Having a clear vision of why you are communicating.Understanding the why behind your communication will help you organize your thoughts and develop clearer, more direct communication.\n",
    "- Set the stage : where the communication is taking place.\n",
    "- All about time : It’s very important to be efficient–this includes making sure your communication is understandable so that stakeholders can quickly comprehend your message.\n",
    "- Active Listening : make the effort to understand the speaker’s point of view. This helps you understand what other people are trying to communicate and sets you up to ask better, more insightful questions.\n",
    "- Asking Questions : data professionals need to ask the right questions. In fact, the entire data analytical process depends on it. "
   ]
  },
  {
   "cell_type": "markdown",
   "id": "7f45b14c-a9f2-44c1-893e-dbc2f11ad2c9",
   "metadata": {},
   "source": [
    "-----------------------------------------"
   ]
  },
  {
   "cell_type": "markdown",
   "id": "a86af74e-518d-45c4-b0fd-7fa845cce6a4",
   "metadata": {},
   "source": [
    "## Terms and definitions"
   ]
  },
  {
   "cell_type": "markdown",
   "id": "0ca4ce7b-f0da-4a0a-a861-665a3cdf9f24",
   "metadata": {},
   "source": [
    "- **PACE workflow:** A framework that provides an initial structure to guide the process of data analytics; PACE stands for plan, analyze, construct, and execute\n",
    "\n",
    "- **Plan stage:** Stage of the PACE workflow where the scope of a project is defined and the informational needs of the organization are identified\n",
    "\n",
    "- **Analyze stage:** Stage of the PACE workflow where the necessary data is acquired from primary and secondary sources and then cleaned, reorganized, and analyzed\n",
    "\n",
    "- **Construct stage:** Stage of the PACE workflow where data models and machine learning algorithms are built, interpreted, and revised to uncover relationships within the data and help unlock insights from those relationships\n",
    "\n",
    "- **Execute stage:** Stage of the PACE workflow where a data professional will present findings with internal and external stakeholders, answer questions, consider different viewpoints, and make recommendations"
   ]
  },
  {
   "cell_type": "code",
   "execution_count": null,
   "id": "fe47fbd2-531e-4542-a001-047a444e3dcd",
   "metadata": {},
   "outputs": [],
   "source": []
  }
 ],
 "metadata": {
  "kernelspec": {
   "display_name": "Python 3 (ipykernel)",
   "language": "python",
   "name": "python3"
  },
  "language_info": {
   "codemirror_mode": {
    "name": "ipython",
    "version": 3
   },
   "file_extension": ".py",
   "mimetype": "text/x-python",
   "name": "python",
   "nbconvert_exporter": "python",
   "pygments_lexer": "ipython3",
   "version": "3.12.5"
  }
 },
 "nbformat": 4,
 "nbformat_minor": 5
}
